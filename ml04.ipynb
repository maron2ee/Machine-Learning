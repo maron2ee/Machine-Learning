{
  "nbformat": 4,
  "nbformat_minor": 0,
  "metadata": {
    "colab": {
      "name": "ml04.ipynb",
      "provenance": [],
      "collapsed_sections": [],
      "authorship_tag": "ABX9TyMHLCGwrt16AA55jNoReCWn",
      "include_colab_link": true
    },
    "kernelspec": {
      "name": "python3",
      "display_name": "Python 3"
    }
  },
  "cells": [
    {
      "cell_type": "markdown",
      "metadata": {
        "id": "view-in-github",
        "colab_type": "text"
      },
      "source": [
        "<a href=\"https://colab.research.google.com/github/maron2ee/Machine-Learning/blob/main/ml04.ipynb\" target=\"_parent\"><img src=\"https://colab.research.google.com/assets/colab-badge.svg\" alt=\"Open In Colab\"/></a>"
      ]
    },
    {
      "cell_type": "code",
      "metadata": {
        "id": "Brk_CAX5mORW"
      },
      "source": [
        "from sklearn.datasets import load_iris"
      ],
      "execution_count": 1,
      "outputs": []
    },
    {
      "cell_type": "code",
      "metadata": {
        "colab": {
          "base_uri": "https://localhost:8080/"
        },
        "id": "MvTGrcVdmXS5",
        "outputId": "5018ff09-b768-4624-bde6-b1392c4ae85e"
      },
      "source": [
        "iris = load_iris()\r\n",
        "iris.keys()"
      ],
      "execution_count": 2,
      "outputs": [
        {
          "output_type": "execute_result",
          "data": {
            "text/plain": [
              "dict_keys(['data', 'target', 'target_names', 'DESCR', 'feature_names', 'filename'])"
            ]
          },
          "metadata": {
            "tags": []
          },
          "execution_count": 2
        }
      ]
    },
    {
      "cell_type": "code",
      "metadata": {
        "id": "LyKD7TiMmdu1"
      },
      "source": [
        "X, y = iris['data'], iris['target']"
      ],
      "execution_count": 4,
      "outputs": []
    },
    {
      "cell_type": "code",
      "metadata": {
        "colab": {
          "base_uri": "https://localhost:8080/"
        },
        "id": "UqTQFoiHmsZP",
        "outputId": "fae8a4b5-5ee8-4fc6-84f3-e6148dbc99f7"
      },
      "source": [
        "X[:5]"
      ],
      "execution_count": 5,
      "outputs": [
        {
          "output_type": "execute_result",
          "data": {
            "text/plain": [
              "array([[5.1, 3.5, 1.4, 0.2],\n",
              "       [4.9, 3. , 1.4, 0.2],\n",
              "       [4.7, 3.2, 1.3, 0.2],\n",
              "       [4.6, 3.1, 1.5, 0.2],\n",
              "       [5. , 3.6, 1.4, 0.2]])"
            ]
          },
          "metadata": {
            "tags": []
          },
          "execution_count": 5
        }
      ]
    },
    {
      "cell_type": "code",
      "metadata": {
        "colab": {
          "base_uri": "https://localhost:8080/"
        },
        "id": "PedgvPP_mwx_",
        "outputId": "d7a0b155-6bf5-405e-ccd0-40fb031c1e83"
      },
      "source": [
        "y[:5]"
      ],
      "execution_count": 6,
      "outputs": [
        {
          "output_type": "execute_result",
          "data": {
            "text/plain": [
              "array([0, 0, 0, 0, 0])"
            ]
          },
          "metadata": {
            "tags": []
          },
          "execution_count": 6
        }
      ]
    },
    {
      "cell_type": "code",
      "metadata": {
        "colab": {
          "base_uri": "https://localhost:8080/"
        },
        "id": "5Gr7jkkJm2Fv",
        "outputId": "32c645aa-fe5a-4b4e-9e55-8b7cde2924c2"
      },
      "source": [
        "iris['feature_names']   # 특성 이름 (변수 이름)"
      ],
      "execution_count": 7,
      "outputs": [
        {
          "output_type": "execute_result",
          "data": {
            "text/plain": [
              "['sepal length (cm)',\n",
              " 'sepal width (cm)',\n",
              " 'petal length (cm)',\n",
              " 'petal width (cm)']"
            ]
          },
          "metadata": {
            "tags": []
          },
          "execution_count": 7
        }
      ]
    },
    {
      "cell_type": "code",
      "metadata": {
        "colab": {
          "base_uri": "https://localhost:8080/"
        },
        "id": "0jn3iUTznx6J",
        "outputId": "d8633de1-2cd4-41a0-85a8-72ff650bd7a1"
      },
      "source": [
        "iris['target_names']   "
      ],
      "execution_count": 8,
      "outputs": [
        {
          "output_type": "execute_result",
          "data": {
            "text/plain": [
              "array(['setosa', 'versicolor', 'virginica'], dtype='<U10')"
            ]
          },
          "metadata": {
            "tags": []
          },
          "execution_count": 8
        }
      ]
    },
    {
      "cell_type": "code",
      "metadata": {
        "colab": {
          "base_uri": "https://localhost:8080/"
        },
        "id": "kNiJ8gfxoHkM",
        "outputId": "658e612a-0e89-4ede-b4b1-7f23e44a06e4"
      },
      "source": [
        "# 꽃잎 길이 (petal length)로 붓꽃의 품종이 virginica 인지 아닌지 분류\r\n",
        "X = X[:, 2:3]\r\n",
        "X[:5]"
      ],
      "execution_count": 9,
      "outputs": [
        {
          "output_type": "execute_result",
          "data": {
            "text/plain": [
              "array([[1.4],\n",
              "       [1.4],\n",
              "       [1.3],\n",
              "       [1.5],\n",
              "       [1.4]])"
            ]
          },
          "metadata": {
            "tags": []
          },
          "execution_count": 9
        }
      ]
    },
    {
      "cell_type": "code",
      "metadata": {
        "id": "2KFXO25EpFC2"
      },
      "source": [
        "import numpy as np"
      ],
      "execution_count": 10,
      "outputs": []
    },
    {
      "cell_type": "code",
      "metadata": {
        "colab": {
          "base_uri": "https://localhost:8080/"
        },
        "id": "o4py1Ve1okc8",
        "outputId": "b81fb84b-155e-4949-e721-9dad23599b0e"
      },
      "source": [
        "y = (y == 2).astype(np.int16)   # virginica 이면 (True) = 1, virginica 가 아니면 (False) = 0\r\n",
        "y[:5], y[-5:]"
      ],
      "execution_count": 12,
      "outputs": [
        {
          "output_type": "execute_result",
          "data": {
            "text/plain": [
              "(array([0, 0, 0, 0, 0], dtype=int16), array([1, 1, 1, 1, 1], dtype=int16))"
            ]
          },
          "metadata": {
            "tags": []
          },
          "execution_count": 12
        }
      ]
    },
    {
      "cell_type": "code",
      "metadata": {
        "id": "aJgjY1-qpG0l"
      },
      "source": [
        "import matplotlib.pyplot as plt"
      ],
      "execution_count": 13,
      "outputs": []
    },
    {
      "cell_type": "code",
      "metadata": {
        "colab": {
          "base_uri": "https://localhost:8080/",
          "height": 265
        },
        "id": "rC_Zf8oDpQPO",
        "outputId": "eb172063-9a3e-42fc-848d-3e4b2bc8b937"
      },
      "source": [
        "plt.scatter(X,y)\r\n",
        "plt.grid()\r\n",
        "\r\n",
        "# x = 꽃잎의 길이 (petal lentgth)\r\n",
        "# y = 품종 "
      ],
      "execution_count": 14,
      "outputs": [
        {
          "output_type": "display_data",
          "data": {
            "image/png": "[encoded data removed]",
            "text/plain": [
              "<Figure size 432x288 with 1 Axes>"
            ]
          },
          "metadata": {
            "tags": [],
            "needs_background": "light"
          }
        }
      ]
    },
    {
      "cell_type": "code",
      "metadata": {
        "id": "WXEdKQ9OpTt5"
      },
      "source": [
        "from sklearn.linear_model import LogisticRegression   # 회귀 아니고 분류 문제 (SGDClassifier) 에서 사용 (LinReg 특잇값 분해 행렬식 이용 비슷 ; SGDRegression)\r\n",
        "# 확률을 가지고 예측"
      ],
      "execution_count": 15,
      "outputs": []
    },
    {
      "cell_type": "code",
      "metadata": {
        "id": "W8qYr7pFp4k9"
      },
      "source": [
        "log_reg = LogisticRegression(random_state=1)   # 모델 생성"
      ],
      "execution_count": 16,
      "outputs": []
    },
    {
      "cell_type": "code",
      "metadata": {
        "colab": {
          "base_uri": "https://localhost:8080/"
        },
        "id": "HCPR5ZpqqpVH",
        "outputId": "f68a23ce-7438-4dbc-99dc-4bb57ae38a35"
      },
      "source": [
        "log_reg.fit(X, y)   # 훈련 데이터/레이블로 모델 훈련"
      ],
      "execution_count": 17,
      "outputs": [
        {
          "output_type": "execute_result",
          "data": {
            "text/plain": [
              "LogisticRegression(C=1.0, class_weight=None, dual=False, fit_intercept=True,\n",
              "                   intercept_scaling=1, l1_ratio=None, max_iter=100,\n",
              "                   multi_class='auto', n_jobs=None, penalty='l2',\n",
              "                   random_state=1, solver='lbfgs', tol=0.0001, verbose=0,\n",
              "                   warm_start=False)"
            ]
          },
          "metadata": {
            "tags": []
          },
          "execution_count": 17
        }
      ]
    },
    {
      "cell_type": "code",
      "metadata": {
        "colab": {
          "base_uri": "https://localhost:8080/"
        },
        "id": "tSSQxyvZqz-B",
        "outputId": "62938d15-d1d5-4106-93ff-6ecf845519a0"
      },
      "source": [
        "log_reg.intercept_, log_reg.coef_"
      ],
      "execution_count": 18,
      "outputs": [
        {
          "output_type": "execute_result",
          "data": {
            "text/plain": [
              "(array([-17.51059761]), array([[3.59114121]]))"
            ]
          },
          "metadata": {
            "tags": []
          },
          "execution_count": 18
        }
      ]
    },
    {
      "cell_type": "code",
      "metadata": {
        "colab": {
          "base_uri": "https://localhost:8080/"
        },
        "id": "fbbGmwDnq89h",
        "outputId": "65a79a29-1f1a-4328-f3cc-89a00d1757ef"
      },
      "source": [
        "y_pred = log_reg.predict(X)\r\n",
        "y[:5], y[-5:]"
      ],
      "execution_count": 19,
      "outputs": [
        {
          "output_type": "execute_result",
          "data": {
            "text/plain": [
              "(array([0, 0, 0, 0, 0], dtype=int16), array([1, 1, 1, 1, 1], dtype=int16))"
            ]
          },
          "metadata": {
            "tags": []
          },
          "execution_count": 19
        }
      ]
    },
    {
      "cell_type": "code",
      "metadata": {
        "colab": {
          "base_uri": "https://localhost:8080/"
        },
        "id": "qhDI4qZCrpdO",
        "outputId": "35294d0c-0d33-4acc-f45f-143a2652a934"
      },
      "source": [
        "y_prob = log_reg.predict_proba(X)\r\n",
        "y_prob[:5], y_prob[-5:]\r\n",
        "\r\n",
        "# virginica 일 확률 (1일 확률) / 아닐 확률 (0일 확률)"
      ],
      "execution_count": 21,
      "outputs": [
        {
          "output_type": "execute_result",
          "data": {
            "text/plain": [
              "(array([[9.99996209e-01, 3.79053376e-06],\n",
              "        [9.99996209e-01, 3.79053376e-06],\n",
              "        [9.99997353e-01, 2.64691250e-06],\n",
              "        [9.99994572e-01, 5.42826373e-06],\n",
              "        [9.99996209e-01, 3.79053376e-06]]), array([[0.23806153, 0.76193847],\n",
              "        [0.39052441, 0.60947559],\n",
              "        [0.23806153, 0.76193847],\n",
              "        [0.13220923, 0.86779077],\n",
              "        [0.309123  , 0.690877  ]]))"
            ]
          },
          "metadata": {
            "tags": []
          },
          "execution_count": 21
        }
      ]
    },
    {
      "cell_type": "code",
      "metadata": {
        "colab": {
          "base_uri": "https://localhost:8080/"
        },
        "id": "RFHpfXQvsZlA",
        "outputId": "081b1f84-cefa-436a-f0e7-ca900cb1236f"
      },
      "source": [
        "X[:5]   # petal length (꽃잎 길이)"
      ],
      "execution_count": 22,
      "outputs": [
        {
          "output_type": "execute_result",
          "data": {
            "text/plain": [
              "array([[1.4],\n",
              "       [1.4],\n",
              "       [1.3],\n",
              "       [1.5],\n",
              "       [1.4]])"
            ]
          },
          "metadata": {
            "tags": []
          },
          "execution_count": 22
        }
      ]
    },
    {
      "cell_type": "code",
      "metadata": {
        "colab": {
          "base_uri": "https://localhost:8080/"
        },
        "id": "s-_b7TIUr70-",
        "outputId": "2a1105f6-80f6-46f8-8808-2a6be33da643"
      },
      "source": [
        "# 다중 클래스 분류\r\n",
        "y = iris['target']\r\n",
        "y[[0, 50, 100]]"
      ],
      "execution_count": 23,
      "outputs": [
        {
          "output_type": "execute_result",
          "data": {
            "text/plain": [
              "array([0, 1, 2])"
            ]
          },
          "metadata": {
            "tags": []
          },
          "execution_count": 23
        }
      ]
    },
    {
      "cell_type": "code",
      "metadata": {
        "id": "gWgZwK651cdW"
      },
      "source": [
        "log_reg = LogisticRegression(random_state=1)   "
      ],
      "execution_count": 24,
      "outputs": []
    },
    {
      "cell_type": "code",
      "metadata": {
        "colab": {
          "base_uri": "https://localhost:8080/"
        },
        "id": "_rj4HUO214i0",
        "outputId": "aa26e10a-abc2-44ed-bcdf-c9385d15e9bd"
      },
      "source": [
        "log_reg.fit(X, y)   # 다중 클래스 분류 문제를 훈련"
      ],
      "execution_count": 25,
      "outputs": [
        {
          "output_type": "execute_result",
          "data": {
            "text/plain": [
              "LogisticRegression(C=1.0, class_weight=None, dual=False, fit_intercept=True,\n",
              "                   intercept_scaling=1, l1_ratio=None, max_iter=100,\n",
              "                   multi_class='auto', n_jobs=None, penalty='l2',\n",
              "                   random_state=1, solver='lbfgs', tol=0.0001, verbose=0,\n",
              "                   warm_start=False)"
            ]
          },
          "metadata": {
            "tags": []
          },
          "execution_count": 25
        }
      ]
    },
    {
      "cell_type": "code",
      "metadata": {
        "colab": {
          "base_uri": "https://localhost:8080/"
        },
        "id": "VqWvmzGV23GV",
        "outputId": "3a61f3b2-f158-4fb9-9161-ef6b1271c2b5"
      },
      "source": [
        "log_reg.intercept_   # 선형회귀식 3개"
      ],
      "execution_count": 30,
      "outputs": [
        {
          "output_type": "execute_result",
          "data": {
            "text/plain": [
              "array([ 11.1110655 ,   3.41563855, -14.52670404])"
            ]
          },
          "metadata": {
            "tags": []
          },
          "execution_count": 30
        }
      ]
    },
    {
      "cell_type": "code",
      "metadata": {
        "colab": {
          "base_uri": "https://localhost:8080/"
        },
        "id": "1mYfjgHh28d_",
        "outputId": "96e1f3af-679d-4277-cfc1-6f6b3b967594"
      },
      "source": [
        "log_reg.coef_"
      ],
      "execution_count": 31,
      "outputs": [
        {
          "output_type": "execute_result",
          "data": {
            "text/plain": [
              "array([[-3.10699007],\n",
              "       [-0.28705287],\n",
              "       [ 3.39404294]])"
            ]
          },
          "metadata": {
            "tags": []
          },
          "execution_count": 31
        }
      ]
    },
    {
      "cell_type": "code",
      "metadata": {
        "id": "l1oYwKA82Aza"
      },
      "source": [
        "y_porb = log_reg.predict_proba(X)"
      ],
      "execution_count": 26,
      "outputs": []
    },
    {
      "cell_type": "code",
      "metadata": {
        "colab": {
          "base_uri": "https://localhost:8080/"
        },
        "id": "e2IWCckU2JuA",
        "outputId": "f9bdc4aa-e95c-41d7-c781-ae1167f2a5c6"
      },
      "source": [
        "y_prob[:5]"
      ],
      "execution_count": 27,
      "outputs": [
        {
          "output_type": "execute_result",
          "data": {
            "text/plain": [
              "array([[9.99996209e-01, 3.79053376e-06],\n",
              "       [9.99996209e-01, 3.79053376e-06],\n",
              "       [9.99997353e-01, 2.64691250e-06],\n",
              "       [9.99994572e-01, 5.42826373e-06],\n",
              "       [9.99996209e-01, 3.79053376e-06]])"
            ]
          },
          "metadata": {
            "tags": []
          },
          "execution_count": 27
        }
      ]
    },
    {
      "cell_type": "code",
      "metadata": {
        "colab": {
          "base_uri": "https://localhost:8080/"
        },
        "id": "xVnP4u0Q2MZY",
        "outputId": "48dc1505-23cf-4a0e-f41a-b732a8babef2"
      },
      "source": [
        "y_prob[-5:]"
      ],
      "execution_count": 28,
      "outputs": [
        {
          "output_type": "execute_result",
          "data": {
            "text/plain": [
              "array([[0.23806153, 0.76193847],\n",
              "       [0.39052441, 0.60947559],\n",
              "       [0.23806153, 0.76193847],\n",
              "       [0.13220923, 0.86779077],\n",
              "       [0.309123  , 0.690877  ]])"
            ]
          },
          "metadata": {
            "tags": []
          },
          "execution_count": 28
        }
      ]
    },
    {
      "cell_type": "code",
      "metadata": {
        "id": "tWWIJtAc2nB0"
      },
      "source": [
        ""
      ],
      "execution_count": null,
      "outputs": []
    }
  ]
}