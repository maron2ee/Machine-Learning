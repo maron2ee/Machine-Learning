{
  "nbformat": 4,
  "nbformat_minor": 0,
  "metadata": {
    "colab": {
      "name": "ml02.ipynb",
      "provenance": [],
      "collapsed_sections": [],
      "authorship_tag": "ABX9TyNHkOA62o8PXgybQf0P1OT/",
      "include_colab_link": true
    },
    "kernelspec": {
      "name": "python3",
      "display_name": "Python 3"
    }
  },
  "cells": [
    {
      "cell_type": "markdown",
      "metadata": {
        "id": "view-in-github",
        "colab_type": "text"
      },
      "source": [
        "<a href=\"https://colab.research.google.com/github/maron2ee/Machine-Learning/blob/main/ml02.ipynb\" target=\"_parent\"><img src=\"https://colab.research.google.com/assets/colab-badge.svg\" alt=\"Open In Colab\"/></a>"
      ]
    },
    {
      "cell_type": "markdown",
      "metadata": {
        "id": "GVG-X4ircd4B"
      },
      "source": [
        "# MNIST (Modified National Institute of Science and Technology) 데이터 셋\n",
        "\n",
        "* 손글씨 숫자 (0, 1, 2, ... , 9) 데이터\n",
        "* 분류 알고리즘을 테스트할 때 가장 많이 사용하는 데이터 셋"
      ]
    },
    {
      "cell_type": "code",
      "metadata": {
        "id": "hjC13PVncaL6"
      },
      "source": [
        "import numpy as np\n",
        "import pandas as pd\n",
        "import matplotlib.pyplot as plt"
      ],
      "execution_count": null,
      "outputs": []
    },
    {
      "cell_type": "code",
      "metadata": {
        "id": "LnKHUhFKdIsI"
      },
      "source": [
        "# scikit-learn 패키지에서 예제로 제공하는 MNIST 데이터 셋을 다운로드\n",
        "from sklearn.datasets import fetch_openml\n",
        "\n",
        "mnist = fetch_openml('mnist_784')      # 784 : 이미지의 크기와 관련 28*28=784 픽셀 (features)"
      ],
      "execution_count": null,
      "outputs": []
    },
    {
      "cell_type": "code",
      "metadata": {
        "colab": {
          "base_uri": "https://localhost:8080/"
        },
        "id": "qkr3ruYmeqJP",
        "outputId": "02990e21-2d1f-4267-f6be-8f9e200d90cc"
      },
      "source": [
        "mnist.keys()"
      ],
      "execution_count": null,
      "outputs": [
        {
          "output_type": "execute_result",
          "data": {
            "text/plain": [
              "dict_keys(['data', 'target', 'frame', 'feature_names', 'target_names', 'DESCR', 'details', 'categories', 'url'])"
            ]
          },
          "metadata": {
            "tags": []
          },
          "execution_count": 3
        }
      ]
    },
    {
      "cell_type": "code",
      "metadata": {
        "colab": {
          "base_uri": "https://localhost:8080/",
          "height": 107
        },
        "id": "et-MVipfesHE",
        "outputId": "2aeb7517-4546-4ee4-936a-eff9d20fd3a9"
      },
      "source": [
        "mnist['DESCR']     # mnist 데이터 셋에 대한 설명"
      ],
      "execution_count": null,
      "outputs": [
        {
          "output_type": "execute_result",
          "data": {
            "application/vnd.google.colaboratory.intrinsic+json": {
              "type": "string"
            },
            "text/plain": [
              "\"**Author**: Yann LeCun, Corinna Cortes, Christopher J.C. Burges  \\n**Source**: [MNIST Website](http://yann.lecun.com/exdb/mnist/) - Date unknown  \\n**Please cite**:  \\n\\nThe MNIST database of handwritten digits with 784 features, raw data available at: http://yann.lecun.com/exdb/mnist/. It can be split in a training set of the first 60,000 examples, and a test set of 10,000 examples  \\n\\nIt is a subset of a larger set available from NIST. The digits have been size-normalized and centered in a fixed-size image. It is a good database for people who want to try learning techniques and pattern recognition methods on real-world data while spending minimal efforts on preprocessing and formatting. The original black and white (bilevel) images from NIST were size normalized to fit in a 20x20 pixel box while preserving their aspect ratio. The resulting images contain grey levels as a result of the anti-aliasing technique used by the normalization algorithm. the images were centered in a 28x28 image by computing the center of mass of the pixels, and translating the image so as to position this point at the center of the 28x28 field.  \\n\\nWith some classification methods (particularly template-based methods, such as SVM and K-nearest neighbors), the error rate improves when the digits are centered by bounding box rather than center of mass. If you do this kind of pre-processing, you should report it in your publications. The MNIST database was constructed from NIST's NIST originally designated SD-3 as their training set and SD-1 as their test set. However, SD-3 is much cleaner and easier to recognize than SD-1. The reason for this can be found on the fact that SD-3 was collected among Census Bureau employees, while SD-1 was collected among high-school students. Drawing sensible conclusions from learning experiments requires that the result be independent of the choice of training set and test among the complete set of samples. Therefore it was necessary to build a new database by mixing NIST's datasets.  \\n\\nThe MNIST training set is composed of 30,000 patterns from SD-3 and 30,000 patterns from SD-1. Our test set was composed of 5,000 patterns from SD-3 and 5,000 patterns from SD-1. The 60,000 pattern training set contained examples from approximately 250 writers. We made sure that the sets of writers of the training set and test set were disjoint. SD-1 contains 58,527 digit images written by 500 different writers. In contrast to SD-3, where blocks of data from each writer appeared in sequence, the data in SD-1 is scrambled. Writer identities for SD-1 is available and we used this information to unscramble the writers. We then split SD-1 in two: characters written by the first 250 writers went into our new training set. The remaining 250 writers were placed in our test set. Thus we had two sets with nearly 30,000 examples each. The new training set was completed with enough examples from SD-3, starting at pattern # 0, to make a full set of 60,000 training patterns. Similarly, the new test set was completed with SD-3 examples starting at pattern # 35,000 to make a full set with 60,000 test patterns. Only a subset of 10,000 test images (5,000 from SD-1 and 5,000 from SD-3) is available on this site. The full 60,000 sample training set is available.\\n\\nDownloaded from openml.org.\""
            ]
          },
          "metadata": {
            "tags": []
          },
          "execution_count": 4
        }
      ]
    },
    {
      "cell_type": "code",
      "metadata": {
        "colab": {
          "base_uri": "https://localhost:8080/"
        },
        "id": "GxwAhWhbe7rY",
        "outputId": "55bce048-ba9d-4fb1-9d99-88899cf026f5"
      },
      "source": [
        "print(mnist['DESCR'])"
      ],
      "execution_count": null,
      "outputs": [
        {
          "output_type": "stream",
          "text": [
            "**Author**: Yann LeCun, Corinna Cortes, Christopher J.C. Burges  \n",
            "**Source**: [MNIST Website](http://yann.lecun.com/exdb/mnist/) - Date unknown  \n",
            "**Please cite**:  \n",
            "\n",
            "The MNIST database of handwritten digits with 784 features, raw data available at: http://yann.lecun.com/exdb/mnist/. It can be split in a training set of the first 60,000 examples, and a test set of 10,000 examples  \n",
            "\n",
            "It is a subset of a larger set available from NIST. The digits have been size-normalized and centered in a fixed-size image. It is a good database for people who want to try learning techniques and pattern recognition methods on real-world data while spending minimal efforts on preprocessing and formatting. The original black and white (bilevel) images from NIST were size normalized to fit in a 20x20 pixel box while preserving their aspect ratio. The resulting images contain grey levels as a result of the anti-aliasing technique used by the normalization algorithm. the images were centered in a 28x28 image by computing the center of mass of the pixels, and translating the image so as to position this point at the center of the 28x28 field.  \n",
            "\n",
            "With some classification methods (particularly template-based methods, such as SVM and K-nearest neighbors), the error rate improves when the digits are centered by bounding box rather than center of mass. If you do this kind of pre-processing, you should report it in your publications. The MNIST database was constructed from NIST's NIST originally designated SD-3 as their training set and SD-1 as their test set. However, SD-3 is much cleaner and easier to recognize than SD-1. The reason for this can be found on the fact that SD-3 was collected among Census Bureau employees, while SD-1 was collected among high-school students. Drawing sensible conclusions from learning experiments requires that the result be independent of the choice of training set and test among the complete set of samples. Therefore it was necessary to build a new database by mixing NIST's datasets.  \n",
            "\n",
            "The MNIST training set is composed of 30,000 patterns from SD-3 and 30,000 patterns from SD-1. Our test set was composed of 5,000 patterns from SD-3 and 5,000 patterns from SD-1. The 60,000 pattern training set contained examples from approximately 250 writers. We made sure that the sets of writers of the training set and test set were disjoint. SD-1 contains 58,527 digit images written by 500 different writers. In contrast to SD-3, where blocks of data from each writer appeared in sequence, the data in SD-1 is scrambled. Writer identities for SD-1 is available and we used this information to unscramble the writers. We then split SD-1 in two: characters written by the first 250 writers went into our new training set. The remaining 250 writers were placed in our test set. Thus we had two sets with nearly 30,000 examples each. The new training set was completed with enough examples from SD-3, starting at pattern # 0, to make a full set of 60,000 training patterns. Similarly, the new test set was completed with SD-3 examples starting at pattern # 35,000 to make a full set with 60,000 test patterns. Only a subset of 10,000 test images (5,000 from SD-1 and 5,000 from SD-3) is available on this site. The full 60,000 sample training set is available.\n",
            "\n",
            "Downloaded from openml.org.\n"
          ],
          "name": "stdout"
        }
      ]
    },
    {
      "cell_type": "code",
      "metadata": {
        "id": "oqPyiZJIfLQ2"
      },
      "source": [
        "X, y = mnist['data'], mnist['target']\n",
        "# X : 손글씨 이미지 데이터\n",
        "# y : 손글씨 이미지 레이블(정답)"
      ],
      "execution_count": null,
      "outputs": []
    },
    {
      "cell_type": "code",
      "metadata": {
        "colab": {
          "base_uri": "https://localhost:8080/"
        },
        "id": "nHdIXj1ZfkuR",
        "outputId": "25563fe7-92f7-40bc-f79a-79223f786585"
      },
      "source": [
        "X.shape, y.shape     \n",
        "#> X : 2-d array, y : 1-d array"
      ],
      "execution_count": null,
      "outputs": [
        {
          "output_type": "execute_result",
          "data": {
            "text/plain": [
              "((70000, 784), (70000,))"
            ]
          },
          "metadata": {
            "tags": []
          },
          "execution_count": 9
        }
      ]
    },
    {
      "cell_type": "code",
      "metadata": {
        "colab": {
          "base_uri": "https://localhost:8080/"
        },
        "id": "4Ift80xagAR4",
        "outputId": "0b740ee8-515b-4698-bfa1-1daf4f9ec12a"
      },
      "source": [
        "X[0]     # X 의 첫번째 row 의 모든 컬럼(특성) 데이터 : 0 ~ 255"
      ],
      "execution_count": null,
      "outputs": [
        {
          "output_type": "execute_result",
          "data": {
            "text/plain": [
              "array([  0.,   0.,   0.,   0.,   0.,   0.,   0.,   0.,   0.,   0.,   0.,\n",
              "         0.,   0.,   0.,   0.,   0.,   0.,   0.,   0.,   0.,   0.,   0.,\n",
              "         0.,   0.,   0.,   0.,   0.,   0.,   0.,   0.,   0.,   0.,   0.,\n",
              "         0.,   0.,   0.,   0.,   0.,   0.,   0.,   0.,   0.,   0.,   0.,\n",
              "         0.,   0.,   0.,   0.,   0.,   0.,   0.,   0.,   0.,   0.,   0.,\n",
              "         0.,   0.,   0.,   0.,   0.,   0.,   0.,   0.,   0.,   0.,   0.,\n",
              "         0.,   0.,   0.,   0.,   0.,   0.,   0.,   0.,   0.,   0.,   0.,\n",
              "         0.,   0.,   0.,   0.,   0.,   0.,   0.,   0.,   0.,   0.,   0.,\n",
              "         0.,   0.,   0.,   0.,   0.,   0.,   0.,   0.,   0.,   0.,   0.,\n",
              "         0.,   0.,   0.,   0.,   0.,   0.,   0.,   0.,   0.,   0.,   0.,\n",
              "         0.,   0.,   0.,   0.,   0.,   0.,   0.,   0.,   0.,   0.,   0.,\n",
              "         0.,   0.,   0.,   0.,   0.,   0.,   0.,   0.,   0.,   0.,   0.,\n",
              "         0.,   0.,   0.,   0.,   0.,   0.,   0.,   0.,   0.,   0.,   0.,\n",
              "         0.,   0.,   0.,   0.,   0.,   0.,   0.,   0.,   0.,   3.,  18.,\n",
              "        18.,  18., 126., 136., 175.,  26., 166., 255., 247., 127.,   0.,\n",
              "         0.,   0.,   0.,   0.,   0.,   0.,   0.,   0.,   0.,   0.,   0.,\n",
              "        30.,  36.,  94., 154., 170., 253., 253., 253., 253., 253., 225.,\n",
              "       172., 253., 242., 195.,  64.,   0.,   0.,   0.,   0.,   0.,   0.,\n",
              "         0.,   0.,   0.,   0.,   0.,  49., 238., 253., 253., 253., 253.,\n",
              "       253., 253., 253., 253., 251.,  93.,  82.,  82.,  56.,  39.,   0.,\n",
              "         0.,   0.,   0.,   0.,   0.,   0.,   0.,   0.,   0.,   0.,   0.,\n",
              "        18., 219., 253., 253., 253., 253., 253., 198., 182., 247., 241.,\n",
              "         0.,   0.,   0.,   0.,   0.,   0.,   0.,   0.,   0.,   0.,   0.,\n",
              "         0.,   0.,   0.,   0.,   0.,   0.,   0.,  80., 156., 107., 253.,\n",
              "       253., 205.,  11.,   0.,  43., 154.,   0.,   0.,   0.,   0.,   0.,\n",
              "         0.,   0.,   0.,   0.,   0.,   0.,   0.,   0.,   0.,   0.,   0.,\n",
              "         0.,   0.,   0.,  14.,   1., 154., 253.,  90.,   0.,   0.,   0.,\n",
              "         0.,   0.,   0.,   0.,   0.,   0.,   0.,   0.,   0.,   0.,   0.,\n",
              "         0.,   0.,   0.,   0.,   0.,   0.,   0.,   0.,   0.,   0.,   0.,\n",
              "       139., 253., 190.,   2.,   0.,   0.,   0.,   0.,   0.,   0.,   0.,\n",
              "         0.,   0.,   0.,   0.,   0.,   0.,   0.,   0.,   0.,   0.,   0.,\n",
              "         0.,   0.,   0.,   0.,   0.,   0.,  11., 190., 253.,  70.,   0.,\n",
              "         0.,   0.,   0.,   0.,   0.,   0.,   0.,   0.,   0.,   0.,   0.,\n",
              "         0.,   0.,   0.,   0.,   0.,   0.,   0.,   0.,   0.,   0.,   0.,\n",
              "         0.,   0.,  35., 241., 225., 160., 108.,   1.,   0.,   0.,   0.,\n",
              "         0.,   0.,   0.,   0.,   0.,   0.,   0.,   0.,   0.,   0.,   0.,\n",
              "         0.,   0.,   0.,   0.,   0.,   0.,   0.,   0.,   0.,  81., 240.,\n",
              "       253., 253., 119.,  25.,   0.,   0.,   0.,   0.,   0.,   0.,   0.,\n",
              "         0.,   0.,   0.,   0.,   0.,   0.,   0.,   0.,   0.,   0.,   0.,\n",
              "         0.,   0.,   0.,   0.,   0.,  45., 186., 253., 253., 150.,  27.,\n",
              "         0.,   0.,   0.,   0.,   0.,   0.,   0.,   0.,   0.,   0.,   0.,\n",
              "         0.,   0.,   0.,   0.,   0.,   0.,   0.,   0.,   0.,   0.,   0.,\n",
              "         0.,  16.,  93., 252., 253., 187.,   0.,   0.,   0.,   0.,   0.,\n",
              "         0.,   0.,   0.,   0.,   0.,   0.,   0.,   0.,   0.,   0.,   0.,\n",
              "         0.,   0.,   0.,   0.,   0.,   0.,   0.,   0.,   0., 249., 253.,\n",
              "       249.,  64.,   0.,   0.,   0.,   0.,   0.,   0.,   0.,   0.,   0.,\n",
              "         0.,   0.,   0.,   0.,   0.,   0.,   0.,   0.,   0.,   0.,   0.,\n",
              "         0.,  46., 130., 183., 253., 253., 207.,   2.,   0.,   0.,   0.,\n",
              "         0.,   0.,   0.,   0.,   0.,   0.,   0.,   0.,   0.,   0.,   0.,\n",
              "         0.,   0.,   0.,   0.,   0.,  39., 148., 229., 253., 253., 253.,\n",
              "       250., 182.,   0.,   0.,   0.,   0.,   0.,   0.,   0.,   0.,   0.,\n",
              "         0.,   0.,   0.,   0.,   0.,   0.,   0.,   0.,   0.,  24., 114.,\n",
              "       221., 253., 253., 253., 253., 201.,  78.,   0.,   0.,   0.,   0.,\n",
              "         0.,   0.,   0.,   0.,   0.,   0.,   0.,   0.,   0.,   0.,   0.,\n",
              "         0.,   0.,  23.,  66., 213., 253., 253., 253., 253., 198.,  81.,\n",
              "         2.,   0.,   0.,   0.,   0.,   0.,   0.,   0.,   0.,   0.,   0.,\n",
              "         0.,   0.,   0.,   0.,   0.,   0.,  18., 171., 219., 253., 253.,\n",
              "       253., 253., 195.,  80.,   9.,   0.,   0.,   0.,   0.,   0.,   0.,\n",
              "         0.,   0.,   0.,   0.,   0.,   0.,   0.,   0.,   0.,   0.,  55.,\n",
              "       172., 226., 253., 253., 253., 253., 244., 133.,  11.,   0.,   0.,\n",
              "         0.,   0.,   0.,   0.,   0.,   0.,   0.,   0.,   0.,   0.,   0.,\n",
              "         0.,   0.,   0.,   0.,   0., 136., 253., 253., 253., 212., 135.,\n",
              "       132.,  16.,   0.,   0.,   0.,   0.,   0.,   0.,   0.,   0.,   0.,\n",
              "         0.,   0.,   0.,   0.,   0.,   0.,   0.,   0.,   0.,   0.,   0.,\n",
              "         0.,   0.,   0.,   0.,   0.,   0.,   0.,   0.,   0.,   0.,   0.,\n",
              "         0.,   0.,   0.,   0.,   0.,   0.,   0.,   0.,   0.,   0.,   0.,\n",
              "         0.,   0.,   0.,   0.,   0.,   0.,   0.,   0.,   0.,   0.,   0.,\n",
              "         0.,   0.,   0.,   0.,   0.,   0.,   0.,   0.,   0.,   0.,   0.,\n",
              "         0.,   0.,   0.,   0.,   0.,   0.,   0.,   0.,   0.,   0.,   0.,\n",
              "         0.,   0.,   0.,   0.,   0.,   0.,   0.,   0.,   0.,   0.,   0.,\n",
              "         0.,   0.,   0.,   0.,   0.,   0.,   0.,   0.,   0.,   0.,   0.,\n",
              "         0.,   0.,   0.])"
            ]
          },
          "metadata": {
            "tags": []
          },
          "execution_count": 10
        }
      ]
    },
    {
      "cell_type": "code",
      "metadata": {
        "colab": {
          "base_uri": "https://localhost:8080/",
          "height": 35
        },
        "id": "CiDvHoUKgaFD",
        "outputId": "551956f5-7355-4eb0-f1f8-5a57d1b5539a"
      },
      "source": [
        "y[0]     #> 문자열(str) 타입"
      ],
      "execution_count": null,
      "outputs": [
        {
          "output_type": "execute_result",
          "data": {
            "application/vnd.google.colaboratory.intrinsic+json": {
              "type": "string"
            },
            "text/plain": [
              "'5'"
            ]
          },
          "metadata": {
            "tags": []
          },
          "execution_count": 11
        }
      ]
    },
    {
      "cell_type": "code",
      "metadata": {
        "colab": {
          "base_uri": "https://localhost:8080/",
          "height": 265
        },
        "id": "T7aDTId0g4gV",
        "outputId": "9c94fded-1a10-414e-cdb0-d65fca8fb9cf"
      },
      "source": [
        "img = X[0].reshape((28, 28))\n",
        "plt.imshow(img, cmap=plt.cm.binary)\n",
        "plt.show()"
      ],
      "execution_count": null,
      "outputs": [
        {
          "output_type": "display_data",
          "data": {
            "image/png": "[encoded data removed]",
            "text/plain": [
              "<Figure size 432x288 with 1 Axes>"
            ]
          },
          "metadata": {
            "tags": [],
            "needs_background": "light"
          }
        }
      ]
    },
    {
      "cell_type": "code",
      "metadata": {
        "colab": {
          "base_uri": "https://localhost:8080/",
          "height": 269
        },
        "id": "pqPfUJrRiRrn",
        "outputId": "188b077d-c9d9-4ba1-f33f-b6690a06eea6"
      },
      "source": [
        "# 데이터 셋 X의 첫 10개 이미지 출력\n",
        "fig, ax = plt.subplots(nrows=1, ncols=10)"
      ],
      "execution_count": null,
      "outputs": [
        {
          "output_type": "display_data",
          "data": {
            "image/png": "[encoded data removed]",
            "text/plain": [
              "<Figure size 432x288 with 10 Axes>"
            ]
          },
          "metadata": {
            "tags": [],
            "needs_background": "light"
          }
        }
      ]
    },
    {
      "cell_type": "code",
      "metadata": {
        "colab": {
          "base_uri": "https://localhost:8080/",
          "height": 59
        },
        "id": "_oIhg9Uiiawm",
        "outputId": "2dbf3c19-c8df-49e4-a153-8c00bb5b08cc"
      },
      "source": [
        "# 데이터 셋 X의 첫 10개 이미지 출력\n",
        "fig, ax = plt.subplots(nrows=1, ncols=10)\n",
        "for i in range(10):\n",
        "  img = X[i].reshape((28, 28))     # 784 -> 28 * 28 변환\n",
        "  ax[i].imshow(img, cmap=plt.cm.binary)     # i번째 subplot에 이미지를 그림\n",
        "  ax[i].axis('off')     # 좌표축 (레이블)을 제거\n",
        "\n",
        "plt.show()"
      ],
      "execution_count": null,
      "outputs": [
        {
          "output_type": "display_data",
          "data": {
            "image/png": "[encoded data removed]",
            "text/plain": [
              "<Figure size 432x288 with 10 Axes>"
            ]
          },
          "metadata": {
            "tags": [],
            "needs_background": "light"
          }
        }
      ]
    },
    {
      "cell_type": "code",
      "metadata": {
        "colab": {
          "base_uri": "https://localhost:8080/"
        },
        "id": "JEr2-iKgjm8c",
        "outputId": "375c6727-a9a5-438a-9296-d5d95a19e51a"
      },
      "source": [
        "# 레이블(타겟) y의 첫 10개 값을 출력\n",
        "y[:10]"
      ],
      "execution_count": null,
      "outputs": [
        {
          "output_type": "execute_result",
          "data": {
            "text/plain": [
              "array(['5', '0', '4', '1', '9', '2', '1', '3', '1', '4'], dtype=object)"
            ]
          },
          "metadata": {
            "tags": []
          },
          "execution_count": 15
        }
      ]
    },
    {
      "cell_type": "code",
      "metadata": {
        "colab": {
          "base_uri": "https://localhost:8080/"
        },
        "id": "EZCvWFFTkgww",
        "outputId": "6e8394e7-0d20-412a-d87d-d044bc398848"
      },
      "source": [
        "# 레이블(타겟) y는 문자열 타입 -> 숫자로 변환 \n",
        "y = y.astype(np.int16)     # 16bit(=2byte) 정수\n",
        "y[:10]"
      ],
      "execution_count": null,
      "outputs": [
        {
          "output_type": "execute_result",
          "data": {
            "text/plain": [
              "array([5, 0, 4, 1, 9, 2, 1, 3, 1, 4], dtype=int16)"
            ]
          },
          "metadata": {
            "tags": []
          },
          "execution_count": 16
        }
      ]
    },
    {
      "cell_type": "code",
      "metadata": {
        "colab": {
          "base_uri": "https://localhost:8080/"
        },
        "id": "SzHA00wjk9oZ",
        "outputId": "2930d114-929d-4b04-e5d0-610d87ed2df2"
      },
      "source": [
        "# train / test 셋 분리\n",
        "n = 60_000     # 훈련 셋의 데이터 개수\n",
        "X_train, y_train = X[:n], y[:n]     # 0 <= i < 60_000\n",
        "X_test, y_test = X[n:], y[n:]     # 60_000 <= i < 70_000\n",
        "X_train.shape, y_train.shape, X_test.shape, y_test.shape"
      ],
      "execution_count": null,
      "outputs": [
        {
          "output_type": "execute_result",
          "data": {
            "text/plain": [
              "((60000, 784), (60000,), (10000, 784), (10000,))"
            ]
          },
          "metadata": {
            "tags": []
          },
          "execution_count": 19
        }
      ]
    },
    {
      "cell_type": "markdown",
      "metadata": {
        "id": "br-RXvA0qdSf"
      },
      "source": [
        "# 2진 분류기 (Binary Classifier)\n",
        "\n",
        " * 양성 / 음성\n",
        " * 스팸 / 스팸 X"
      ]
    },
    {
      "cell_type": "code",
      "metadata": {
        "id": "IvHpHp3Ol79y"
      },
      "source": [
        "# 5와 5가 아닌 숫자를 분류하는 문제\n",
        "y_train_5 = (y_train == 5)     # 5는 True, 다른 숫자는 False\n",
        "y_test_5 = (y_test ==5)     "
      ],
      "execution_count": null,
      "outputs": []
    },
    {
      "cell_type": "code",
      "metadata": {
        "colab": {
          "base_uri": "https://localhost:8080/"
        },
        "id": "kBECfxPBrT-S",
        "outputId": "dc700dd4-2f13-4410-fecc-9671110de6f0"
      },
      "source": [
        "y_train_5[:10]"
      ],
      "execution_count": null,
      "outputs": [
        {
          "output_type": "execute_result",
          "data": {
            "text/plain": [
              "array([ True, False, False, False, False, False, False, False, False,\n",
              "       False])"
            ]
          },
          "metadata": {
            "tags": []
          },
          "execution_count": 21
        }
      ]
    },
    {
      "cell_type": "code",
      "metadata": {
        "id": "1tnl5knhrWqp"
      },
      "source": [
        "# 분류 알고리즘 선택\n",
        "from sklearn.linear_model import SGDClassifier"
      ],
      "execution_count": null,
      "outputs": []
    },
    {
      "cell_type": "code",
      "metadata": {
        "id": "ee2a8t-vsAQj"
      },
      "source": [
        "# 머신러닝 모델 객체 생성\n",
        "sgd_clf = SGDClassifier(random_state=1)"
      ],
      "execution_count": null,
      "outputs": []
    },
    {
      "cell_type": "code",
      "metadata": {
        "colab": {
          "base_uri": "https://localhost:8080/"
        },
        "id": "BrzptFFWsfYY",
        "outputId": "6c449a77-f731-4e08-868d-582128d0f4f4"
      },
      "source": [
        "# 모델 훈련\n",
        "sgd_clf.fit(X=X_train, y=y_train_5)"
      ],
      "execution_count": null,
      "outputs": [
        {
          "output_type": "execute_result",
          "data": {
            "text/plain": [
              "SGDClassifier(alpha=0.0001, average=False, class_weight=None,\n",
              "              early_stopping=False, epsilon=0.1, eta0=0.0, fit_intercept=True,\n",
              "              l1_ratio=0.15, learning_rate='optimal', loss='hinge',\n",
              "              max_iter=1000, n_iter_no_change=5, n_jobs=None, penalty='l2',\n",
              "              power_t=0.5, random_state=1, shuffle=True, tol=0.001,\n",
              "              validation_fraction=0.1, verbose=0, warm_start=False)"
            ]
          },
          "metadata": {
            "tags": []
          },
          "execution_count": 25
        }
      ]
    },
    {
      "cell_type": "code",
      "metadata": {
        "colab": {
          "base_uri": "https://localhost:8080/"
        },
        "id": "BvJhloHVslNP",
        "outputId": "4b6ffbb5-500a-40a2-bce1-ee5830c74904"
      },
      "source": [
        "# 훈련된 모델이 훈련셋을 어떻게 예측하는지\n",
        "y_train_5_pred = sgd_clf.predict(X=X_train)\n",
        "y_train_5_pred[:10]"
      ],
      "execution_count": null,
      "outputs": [
        {
          "output_type": "execute_result",
          "data": {
            "text/plain": [
              "array([ True, False, False, False, False, False, False, False, False,\n",
              "       False])"
            ]
          },
          "metadata": {
            "tags": []
          },
          "execution_count": 26
        }
      ]
    },
    {
      "cell_type": "code",
      "metadata": {
        "colab": {
          "base_uri": "https://localhost:8080/"
        },
        "id": "FxWDJqsftpeB",
        "outputId": "36d61b7a-ef78-4ef0-824b-be371887f9f2"
      },
      "source": [
        "# 적확도 (accuracy) : 실제값과 예측값이 얼마나 같은지\n",
        "np.mean(y_train_5 == y_train_5_pred)"
      ],
      "execution_count": null,
      "outputs": [
        {
          "output_type": "execute_result",
          "data": {
            "text/plain": [
              "0.9685333333333334"
            ]
          },
          "metadata": {
            "tags": []
          },
          "execution_count": 27
        }
      ]
    },
    {
      "cell_type": "markdown",
      "metadata": {
        "id": "CsLedftMvqsx"
      },
      "source": [
        "# 분류(classification)의 평가 지표(metrics)\n"
      ]
    },
    {
      "cell_type": "code",
      "metadata": {
        "id": "qZ-npgu3vK7D"
      },
      "source": [
        "# 오차 행렬, 혼동 행렬(confusion matrix)\n",
        "from sklearn.metrics import confusion_matrix"
      ],
      "execution_count": null,
      "outputs": []
    },
    {
      "cell_type": "code",
      "metadata": {
        "colab": {
          "base_uri": "https://localhost:8080/"
        },
        "id": "rYyN_HQlv4hD",
        "outputId": "10818c11-0e23-4480-facc-538756b89ab0"
      },
      "source": [
        "conf_mat = confusion_matrix(y_true=y_train_5,           # 실제 값(레이블) \n",
        "                            y_pred=y_train_5_pred)      # 예측 값\n",
        "conf_mat"
      ],
      "execution_count": null,
      "outputs": [
        {
          "output_type": "execute_result",
          "data": {
            "text/plain": [
              "array([[53381,  1198],\n",
              "       [  690,  4731]])"
            ]
          },
          "metadata": {
            "tags": []
          },
          "execution_count": 30
        }
      ]
    },
    {
      "cell_type": "markdown",
      "metadata": {
        "id": "kLDgfFQ_yFV5"
      },
      "source": [
        "문제에 따라서 비율 중요성이 달라짐\n",
        "* TN (True Negative, 진음성) : 실제 음성을 음성으로 예측\n",
        "* **FP (False Positive, 가양성)** : 실제 음성을 양성으로 잘못 예측\n",
        "    _스팸 메일 구분\n",
        "* **FN (False Negative, 가음성)** : 실제 양성을 음성으로 잘못 예측\n",
        "    _코로나 진단키트\n",
        "* TP (True Positive, 진양성) : 실제 양성을 양성으로 예측"
      ]
    },
    {
      "cell_type": "code",
      "metadata": {
        "id": "LYLTJbCiwZRV"
      },
      "source": [
        "tn, fp = conf_mat[0,0], conf_mat[0,1]\n",
        "fn, tp = conf_mat[1,0], conf_mat[1,1]"
      ],
      "execution_count": null,
      "outputs": []
    },
    {
      "cell_type": "code",
      "metadata": {
        "colab": {
          "base_uri": "https://localhost:8080/"
        },
        "id": "vVd3BIDE30G7",
        "outputId": "e0df8373-b950-4ec9-f984-d34b5d1e9880"
      },
      "source": [
        "# 정확도 (accuracy) : 전체 샘플들을 정확히 분류한 비율\n",
        "accuracy = (tn + tp) / (tn + fp + fn + tp)\n",
        "accuracy"
      ],
      "execution_count": null,
      "outputs": [
        {
          "output_type": "execute_result",
          "data": {
            "text/plain": [
              "0.9685333333333334"
            ]
          },
          "metadata": {
            "tags": []
          },
          "execution_count": 32
        }
      ]
    },
    {
      "cell_type": "code",
      "metadata": {
        "colab": {
          "base_uri": "https://localhost:8080/"
        },
        "id": "ECDp0vx-4NZ2",
        "outputId": "72cb4f2e-f0f7-43de-cc0c-f93659f29451"
      },
      "source": [
        "from sklearn.metrics import accuracy_score\n",
        "\n",
        "acc = accuracy_score(y_true=y_train_5, y_pred=y_train_5_pred)\n",
        "acc"
      ],
      "execution_count": null,
      "outputs": [
        {
          "output_type": "execute_result",
          "data": {
            "text/plain": [
              "0.9685333333333334"
            ]
          },
          "metadata": {
            "tags": []
          },
          "execution_count": 34
        }
      ]
    },
    {
      "cell_type": "code",
      "metadata": {
        "colab": {
          "base_uri": "https://localhost:8080/"
        },
        "id": "UzthJNuI5EJ4",
        "outputId": "0154255c-e61f-48af-ced6-88b9fd77a7e7"
      },
      "source": [
        "# 정밀도 (precision) : 양성(positive) 예측들 중에서 정답의 비율\n",
        "precision = tp / (fp + tp)\n",
        "precision"
      ],
      "execution_count": null,
      "outputs": [
        {
          "output_type": "execute_result",
          "data": {
            "text/plain": [
              "0.7979423174228369"
            ]
          },
          "metadata": {
            "tags": []
          },
          "execution_count": 35
        }
      ]
    },
    {
      "cell_type": "code",
      "metadata": {
        "colab": {
          "base_uri": "https://localhost:8080/"
        },
        "id": "u7vTaYcZ5EC6",
        "outputId": "faf2ffc1-6026-4ada-cef4-b658b1dee8b0"
      },
      "source": [
        "from sklearn.metrics import precision_score\n",
        "\n",
        "precision = precision_score(y_true = y_train_5, y_pred = y_train_5_pred)\n",
        "precision"
      ],
      "execution_count": null,
      "outputs": [
        {
          "output_type": "execute_result",
          "data": {
            "text/plain": [
              "0.7979423174228369"
            ]
          },
          "metadata": {
            "tags": []
          },
          "execution_count": 36
        }
      ]
    },
    {
      "cell_type": "code",
      "metadata": {
        "colab": {
          "base_uri": "https://localhost:8080/"
        },
        "id": "SFLUNQ6e6Uza",
        "outputId": "c119789d-e1f0-4dc5-be8b-2a4e6758f79f"
      },
      "source": [
        "# 재현율 (recall), 민감도 (sensitivity), TPR (True Positive Rate, 진양성 비율)\n",
        "# 실제 양성 샘플들 중에서 정답의 비율\n",
        "\n",
        "recall = tp / (fn + tp)\n",
        "recall"
      ],
      "execution_count": null,
      "outputs": [
        {
          "output_type": "execute_result",
          "data": {
            "text/plain": [
              "0.8727172108467073"
            ]
          },
          "metadata": {
            "tags": []
          },
          "execution_count": 37
        }
      ]
    },
    {
      "cell_type": "code",
      "metadata": {
        "colab": {
          "base_uri": "https://localhost:8080/"
        },
        "id": "bMEGyWIB68fq",
        "outputId": "aa749efc-cb54-46d0-8a74-40e6164c5e99"
      },
      "source": [
        "from sklearn.metrics import recall_score\n",
        "\n",
        "recall = recall_score(y_true = y_train_5, y_pred = y_train_5_pred)\n",
        "recall"
      ],
      "execution_count": null,
      "outputs": [
        {
          "output_type": "execute_result",
          "data": {
            "text/plain": [
              "0.8727172108467073"
            ]
          },
          "metadata": {
            "tags": []
          },
          "execution_count": 38
        }
      ]
    },
    {
      "cell_type": "code",
      "metadata": {
        "colab": {
          "base_uri": "https://localhost:8080/"
        },
        "id": "4lz9fawG7iz1",
        "outputId": "0ebe3ff6-50ff-4c81-a206-b8da312260ae"
      },
      "source": [
        "# F1 score : 정밀도와 재현율의 조화 평균\n",
        "f1 = 2 / (1/precision + 1/recall)\n",
        "f1"
      ],
      "execution_count": null,
      "outputs": [
        {
          "output_type": "execute_result",
          "data": {
            "text/plain": [
              "0.8336563876651982"
            ]
          },
          "metadata": {
            "tags": []
          },
          "execution_count": 40
        }
      ]
    },
    {
      "cell_type": "code",
      "metadata": {
        "colab": {
          "base_uri": "https://localhost:8080/"
        },
        "id": "2pMOmliE8Uk2",
        "outputId": "f5cae794-cbd3-4d97-aae0-a34927ef9e9f"
      },
      "source": [
        "from sklearn.metrics import f1_score\n",
        "\n",
        "f1 = f1_score(y_true = y_train_5, y_pred = y_train_5_pred)\n",
        "f1"
      ],
      "execution_count": null,
      "outputs": [
        {
          "output_type": "execute_result",
          "data": {
            "text/plain": [
              "0.8336563876651982"
            ]
          },
          "metadata": {
            "tags": []
          },
          "execution_count": 41
        }
      ]
    },
    {
      "cell_type": "markdown",
      "metadata": {
        "id": "gVTh2YC8-Bfw"
      },
      "source": [
        "# 정밀도 - 재현율 트레이드오프 (precision/recall trade-off)\n",
        "* 일반적으로 정밀도 좋아지면, 재현율은 나빠짐"
      ]
    },
    {
      "cell_type": "code",
      "metadata": {
        "id": "kkoLvagt9tcD"
      },
      "source": [
        "from sklearn.model_selection import cross_val_predict"
      ],
      "execution_count": null,
      "outputs": []
    },
    {
      "cell_type": "code",
      "metadata": {
        "colab": {
          "base_uri": "https://localhost:8080/"
        },
        "id": "6ym2D9dJ9tPx",
        "outputId": "fc8a7926-2c35-4aca-8b50-8e1279f94520"
      },
      "source": [
        "predictions = cross_val_predict(estimator=SGDClassifier(random_state=1),     # 머신러닝 모델\n",
        "                               X=X_train,     # 훈련 셋\n",
        "                               y=y_train_5,     # 훈련 레이블 (타겟)\n",
        "                               cv=3,     # 교차 검증 횟수 (fold)\n",
        "                               method='predict')     # 예측값 리턴\n",
        "\n",
        "predictions"
      ],
      "execution_count": null,
      "outputs": [
        {
          "output_type": "execute_result",
          "data": {
            "text/plain": [
              "array([ True, False, False, ...,  True, False, False])"
            ]
          },
          "metadata": {
            "tags": []
          },
          "execution_count": 43
        }
      ]
    },
    {
      "cell_type": "code",
      "metadata": {
        "colab": {
          "base_uri": "https://localhost:8080/"
        },
        "id": "SuNkCemD_IUy",
        "outputId": "97f4ef29-d5b2-4bf2-efe7-a43252e0318a"
      },
      "source": [
        "pred_scores = cross_val_predict(estimator = SGDClassifier(random_state=1),\n",
        "                                X=X_train,\n",
        "                                y=y_train_5,\n",
        "                                cv=3,\n",
        "                                method='decision_function')\n",
        "\n",
        "pred_scores"
      ],
      "execution_count": null,
      "outputs": [
        {
          "output_type": "execute_result",
          "data": {
            "text/plain": [
              "array([  8536.87948485,  -9930.42427547, -34430.63925683, ...,\n",
              "         6041.93526298,  -4785.17366605,  -8938.21271251])"
            ]
          },
          "metadata": {
            "tags": []
          },
          "execution_count": 45
        }
      ]
    },
    {
      "cell_type": "code",
      "metadata": {
        "id": "kSB1_vsV_rnm"
      },
      "source": [
        "# 정밀도 / 재현율 곡선\n",
        "from sklearn.metrics import precision_recall_curve     # threshold : 임계값"
      ],
      "execution_count": null,
      "outputs": []
    },
    {
      "cell_type": "code",
      "metadata": {
        "colab": {
          "base_uri": "https://localhost:8080/"
        },
        "id": "Qfad2XxOVYFt",
        "outputId": "783588fb-69fe-4d1d-dbe1-c4cca37a8525"
      },
      "source": [
        "precisions, recalls, thresholds = precision_recall_curve(y_true=y_train_5,\n",
        "                                                         probas_pred=pred_scores)\n",
        "\n",
        "len(precisions), len(recalls), len(thresholds)     # thresholds 갯수가 precisions, recalls 갯수 보다 항상 1 작음 (숫자 3개, 간격 2개)"
      ],
      "execution_count": null,
      "outputs": [
        {
          "output_type": "execute_result",
          "data": {
            "text/plain": [
              "(59586, 59586, 59585)"
            ]
          },
          "metadata": {
            "tags": []
          },
          "execution_count": 47
        }
      ]
    },
    {
      "cell_type": "code",
      "metadata": {
        "colab": {
          "base_uri": "https://localhost:8080/",
          "height": 279
        },
        "id": "eRbh5r8fXB3S",
        "outputId": "fac90c1c-9f91-4914-c0e5-584c7e7106d8"
      },
      "source": [
        "# precision / recall vs. threshold 그래프\n",
        "# threshold 의 값에 따른 정밀도와 재현율의 변화\n",
        "plt.figure(figsize=(8,4))\n",
        "plt.plot(thresholds, precisions[:-1], 'b--', label='precision')     # thresholds 값과 맞추기 위해 precisions 마지막 하나 빼기\n",
        "# 'b--' : color = blue, linestyle = dashed (--)\n",
        "plt.plot(thresholds, recalls[:-1], 'g-', label='recall')\n",
        "# 'g-' : color = green, linestyle = solid (-)\n",
        "\n",
        "plt.legend()     # 범례 추가\n",
        "plt.xlabel('Thresholds')\n",
        "plt.show()"
      ],
      "execution_count": null,
      "outputs": [
        {
          "output_type": "display_data",
          "data": {
            "image/png": "[encoded data removed]",
            "text/plain": [
              "<Figure size 576x288 with 1 Axes>"
            ]
          },
          "metadata": {
            "tags": [],
            "needs_background": "light"
          }
        }
      ]
    },
    {
      "cell_type": "code",
      "metadata": {
        "colab": {
          "base_uri": "https://localhost:8080/",
          "height": 279
        },
        "id": "HiO37y0EYvMF",
        "outputId": "a667770b-892f-40a6-8b1a-10a0ca58784f"
      },
      "source": [
        "# Recall vs. Precision curve      \n",
        "# 두개가 동시에 좋아질 수 는 없지만 (0.0 ~ 0.7 정도는 둘 다 보완)\n",
        "\n",
        "plt.plot(recalls, precisions, 'b-')\n",
        "\n",
        "plt.grid(True)\n",
        "plt.xlabel('Recall')\n",
        "plt.ylabel('Precision')\n",
        "plt.show()"
      ],
      "execution_count": null,
      "outputs": [
        {
          "output_type": "display_data",
          "data": {
            "image/png": "[encoded data removed]",
            "text/plain": [
              "<Figure size 432x288 with 1 Axes>"
            ]
          },
          "metadata": {
            "tags": [],
            "needs_background": "light"
          }
        }
      ]
    },
    {
      "cell_type": "markdown",
      "metadata": {
        "id": "r637VMiUfkQV"
      },
      "source": [
        "# ROC (Receiver Operating CHaracteristic) Curve\n",
        "\n",
        "* FPR (False Positive Rative, 가양성 비율)에 대한 TPR (True Positive Rate, 진양성 비율) 곡선\n",
        "* TPR (True Positive Rate) = Recall = TP / (FN + TP) : 실제 양성 샘플들 중에서 양성 예측\n",
        "* TNR (True Negative Rate) = TN / (TN + FP) : 실제 음성 샘플들 중에서 음성 예측(정답)의 비율\n",
        "* FPR (False Positive Rate) = 1 - TNR : 실제 음성 샘플들 중에서 양성 예측(오답)의 비율"
      ]
    },
    {
      "cell_type": "code",
      "metadata": {
        "id": "2qRbMIo8fkFc"
      },
      "source": [
        "from sklearn.metrics import roc_curve"
      ],
      "execution_count": null,
      "outputs": []
    },
    {
      "cell_type": "code",
      "metadata": {
        "id": "WxBx0FGXbqQB"
      },
      "source": [
        "fpr, tpr, thresholds = roc_curve(y_true=y_train_5, \n",
        "                                 y_score=pred_scores)"
      ],
      "execution_count": null,
      "outputs": []
    },
    {
      "cell_type": "code",
      "metadata": {
        "colab": {
          "base_uri": "https://localhost:8080/",
          "height": 279
        },
        "id": "dgtuWXq9i29B",
        "outputId": "19ddffc8-6371-4c89-d106-23a37c847b0f"
      },
      "source": [
        "plt.plot(fpr, tpr)     # 왼쪽 상단의 꼭지점이 1.0 에 가까울수록 (곡선 아래쪽 면적이 넓을수록) 좋은 그래프\n",
        "\n",
        "plt.grid()\n",
        "plt.xlabel('False Positive Rate')\n",
        "plt.ylabel('True Positive Rate')\n",
        "plt.show()"
      ],
      "execution_count": null,
      "outputs": [
        {
          "output_type": "display_data",
          "data": {
            "image/png": "[encoded data removed]",
            "text/plain": [
              "<Figure size 432x288 with 1 Axes>"
            ]
          },
          "metadata": {
            "tags": [],
            "needs_background": "light"
          }
        }
      ]
    },
    {
      "cell_type": "code",
      "metadata": {
        "colab": {
          "base_uri": "https://localhost:8080/"
        },
        "id": "kj2RlvcBjA7x",
        "outputId": "d203a59c-9b57-496f-ee69-57d4b4b15d4e"
      },
      "source": [
        "# AUC (Area Under the Curve) : ROC 곡선 아래 넓이 (면적)\n",
        "# AUC 가 1에 가까울 수록 좋은 모델\n",
        "\n",
        "from sklearn.metrics import roc_auc_score\n",
        "\n",
        "roc_auc_score(y_true=y_train_5, y_score=pred_scores)"
      ],
      "execution_count": null,
      "outputs": [
        {
          "output_type": "execute_result",
          "data": {
            "text/plain": [
              "0.962647024223004"
            ]
          },
          "metadata": {
            "tags": []
          },
          "execution_count": 59
        }
      ]
    },
    {
      "cell_type": "markdown",
      "metadata": {
        "id": "VQoGZz2fkjj1"
      },
      "source": [
        "* PR 곡선 : 양성 클래스가 드물거나 가음성(FN) 보다 가양성(FP)가 중요할 때, 보통 사용 // \n",
        "양성 샘플의 수가 음성 샘플의 수보다 작을 때\n",
        "* ROC 곡선 : 그렇지 않은 경우에는 일반적으로 roc를 사용"
      ]
    },
    {
      "cell_type": "code",
      "metadata": {
        "id": "Wsqbp91ukSq8"
      },
      "source": [
        "# SGC 분류기와 랜덤 포레스트 분류기와 비교\n",
        "from sklearn.ensemble import RandomForestClassifier"
      ],
      "execution_count": null,
      "outputs": []
    },
    {
      "cell_type": "code",
      "metadata": {
        "id": "MzIIXlcRmIrP"
      },
      "source": [
        "forest_clf = RandomForestClassifier(random_state=1)"
      ],
      "execution_count": null,
      "outputs": []
    },
    {
      "cell_type": "code",
      "metadata": {
        "id": "-adZAT4omYg1"
      },
      "source": [
        "forest_pred_scores = cross_val_predict(estimator=forest_clf,\n",
        "                                       X=X_train,\n",
        "                                       y=y_train_5,\n",
        "                                       cv=3,\n",
        "                                       method='predict_proba')"
      ],
      "execution_count": null,
      "outputs": []
    },
    {
      "cell_type": "code",
      "metadata": {
        "colab": {
          "base_uri": "https://localhost:8080/"
        },
        "id": "hAX6pal-nIYU",
        "outputId": "649c1192-7c2d-4bac-c0e2-278ee8512db6"
      },
      "source": [
        "forest_pred_scores     # 왼 : 5가 아닐 확률, 오 : 5가 맞을 확률 // 2-d array \n",
        "# 60,000개 훈련 셋의 [prob(negative), prob(positive)]"
      ],
      "execution_count": null,
      "outputs": [
        {
          "output_type": "execute_result",
          "data": {
            "text/plain": [
              "array([[0.07, 0.93],\n",
              "       [0.98, 0.02],\n",
              "       [0.96, 0.04],\n",
              "       ...,\n",
              "       [0.  , 1.  ],\n",
              "       [0.92, 0.08],\n",
              "       [0.94, 0.06]])"
            ]
          },
          "metadata": {
            "tags": []
          },
          "execution_count": 65
        }
      ]
    },
    {
      "cell_type": "code",
      "metadata": {
        "colab": {
          "base_uri": "https://localhost:8080/"
        },
        "id": "KEjlKK3TnkNl",
        "outputId": "4333c4bd-d851-41a6-d10e-f71c6919f7fa"
      },
      "source": [
        "forest_pred_scores.shape"
      ],
      "execution_count": null,
      "outputs": [
        {
          "output_type": "execute_result",
          "data": {
            "text/plain": [
              "(60000, 2)"
            ]
          },
          "metadata": {
            "tags": []
          },
          "execution_count": 66
        }
      ]
    },
    {
      "cell_type": "code",
      "metadata": {
        "colab": {
          "base_uri": "https://localhost:8080/",
          "height": 265
        },
        "id": "yg2dlbKUo0-D",
        "outputId": "d904b0bc-6df9-4cfa-936e-f4f1de283e40"
      },
      "source": [
        "# Random Forest 의 ROC 곡선\n",
        "forest_fpr, forest_tpr, _ = roc_curve(y_true=y_train_5,     # 값 안 넣어줄꺼면, _ 입력\n",
        "                                      y_score=forest_pred_scores[:, 1])     # row는 다 선택하고 column은 1번만 - 5가 될 확률\n",
        "\n",
        "plt.plot(forest_fpr, forest_tpr)\n",
        "plt.grid()\n",
        "plt.show()"
      ],
      "execution_count": null,
      "outputs": [
        {
          "output_type": "display_data",
          "data": {
            "image/png": "[encoded data removed]",
            "text/plain": [
              "<Figure size 432x288 with 1 Axes>"
            ]
          },
          "metadata": {
            "tags": [],
            "needs_background": "light"
          }
        }
      ]
    },
    {
      "cell_type": "code",
      "metadata": {
        "colab": {
          "base_uri": "https://localhost:8080/",
          "height": 265
        },
        "id": "bxrUhI5fpdt0",
        "outputId": "a06d76ae-dd8e-4aff-aed2-759c645b1e3d"
      },
      "source": [
        "# Random Forest 의 PR 곡선\n",
        "# 우상단으로 올라갈 수록 (아래 면적 1에 가까울 수록) 좋은 성능을 낼것이라 예측할 수\n",
        "forest_prec, forest_rec, _ = precision_recall_curve(y_true=y_train_5,\n",
        "                                                    probas_pred=forest_pred_scores[:, 1])\n",
        "\n",
        "plt.plot(forest_rec, forest_prec)\n",
        "plt.grid()\n",
        "plt.show()"
      ],
      "execution_count": null,
      "outputs": [
        {
          "output_type": "display_data",
          "data": {
            "image/png": "[encoded data removed]",
            "text/plain": [
              "<Figure size 432x288 with 1 Axes>"
            ]
          },
          "metadata": {
            "tags": [],
            "needs_background": "light"
          }
        }
      ]
    },
    {
      "cell_type": "markdown",
      "metadata": {
        "id": "6p3HtRlqtvFc"
      },
      "source": [
        "# Multiclass Classification (다중 클래스 분류)"
      ]
    },
    {
      "cell_type": "code",
      "metadata": {
        "colab": {
          "base_uri": "https://localhost:8080/"
        },
        "id": "PzyqXapqqviJ",
        "outputId": "7083609f-bd09-44fa-ca76-8841bce76718"
      },
      "source": [
        "sgd_clif = SGDClassifier(random_state=1)     # 모델 생성\n",
        "sgd_clf.fit(X=X_train, y=y_train)     # 모델 학습\n",
        "y_pred = sgd_clf.predict(X=X_train)\n",
        "y_pred"
      ],
      "execution_count": null,
      "outputs": [
        {
          "output_type": "execute_result",
          "data": {
            "text/plain": [
              "array([3, 0, 4, ..., 5, 6, 8], dtype=int16)"
            ]
          },
          "metadata": {
            "tags": []
          },
          "execution_count": 69
        }
      ]
    },
    {
      "cell_type": "code",
      "metadata": {
        "colab": {
          "base_uri": "https://localhost:8080/"
        },
        "id": "IL3vpzkQu0Vq",
        "outputId": "7e1f5a35-1c7b-4650-8955-24f20ebf6e6e"
      },
      "source": [
        "# confidence score : 샘플이 클래스에 속할 수 있는 점수\n",
        "conf_scores = sgd_clf.decision_function(X=X_train)\n",
        "conf_scores "
      ],
      "execution_count": null,
      "outputs": [
        {
          "output_type": "execute_result",
          "data": {
            "text/plain": [
              "array([[-24670.54831945, -24956.18602024,  -8946.54366192, ...,\n",
              "        -21540.55134475, -12611.04215094,  -8413.53889667],\n",
              "       [ 35115.54260117, -29238.15978494, -10522.21560933, ...,\n",
              "        -20088.61022822,  -8671.69431041,  -8280.94497265],\n",
              "       [-44963.27137232, -19436.94360558,  -4521.12867711, ...,\n",
              "         -8694.04566573, -11086.08921073,  -9950.6497012 ],\n",
              "       ...,\n",
              "       [-27527.03192197,  -8896.09595732, -13969.34592318, ...,\n",
              "        -28910.63557095,  -4096.07930681, -14406.76402143],\n",
              "       [-24472.13816489, -15909.53454174,  -7950.52483362, ...,\n",
              "        -20823.11099216, -14185.0520895 , -11458.78080004],\n",
              "       [ -7079.58427496, -27307.02283194, -11328.34979779, ...,\n",
              "        -18458.33310161,   2158.50975994,   -216.52178007]])"
            ]
          },
          "metadata": {
            "tags": []
          },
          "execution_count": 71
        }
      ]
    },
    {
      "cell_type": "code",
      "metadata": {
        "colab": {
          "base_uri": "https://localhost:8080/"
        },
        "id": "VfvtMTFPwB2d",
        "outputId": "8fb161e5-0f35-4e6b-ab76-f63dc8e1eafa"
      },
      "source": [
        "conf_scores.shape    # column 10 개 = 0 ~ 9"
      ],
      "execution_count": null,
      "outputs": [
        {
          "output_type": "execute_result",
          "data": {
            "text/plain": [
              "(60000, 10)"
            ]
          },
          "metadata": {
            "tags": []
          },
          "execution_count": 72
        }
      ]
    },
    {
      "cell_type": "code",
      "metadata": {
        "colab": {
          "base_uri": "https://localhost:8080/"
        },
        "id": "ZaIN6yQ1wTbv",
        "outputId": "e6cea39a-a1eb-4a37-a9fd-297424c8674b"
      },
      "source": [
        "# 0번 샘플의 점수\n",
        "conf_scores[0]"
      ],
      "execution_count": null,
      "outputs": [
        {
          "output_type": "execute_result",
          "data": {
            "text/plain": [
              "array([-24670.54831945, -24956.18602024,  -8946.54366192,    891.72458906,\n",
              "       -22089.09807895,    767.86799436, -24257.4166882 , -21540.55134475,\n",
              "       -12611.04215094,  -8413.53889667])"
            ]
          },
          "metadata": {
            "tags": []
          },
          "execution_count": 73
        }
      ]
    },
    {
      "cell_type": "code",
      "metadata": {
        "colab": {
          "base_uri": "https://localhost:8080/"
        },
        "id": "-uWzWy6WweVv",
        "outputId": "fe98eb67-312e-4446-9658-54486f76ee6f"
      },
      "source": [
        "# 배열(array)에서 최대값의 인덱스를 리턴\n",
        "np.argmax(conf_scores[0])     "
      ],
      "execution_count": null,
      "outputs": [
        {
          "output_type": "execute_result",
          "data": {
            "text/plain": [
              "3"
            ]
          },
          "metadata": {
            "tags": []
          },
          "execution_count": 74
        }
      ]
    },
    {
      "cell_type": "code",
      "metadata": {
        "colab": {
          "base_uri": "https://localhost:8080/"
        },
        "id": "J9g1AjHcw6u3",
        "outputId": "4f53b05e-5cba-4c61-aa6f-9324c8883772"
      },
      "source": [
        "# 정확도 (accuracy) - 2진분류에 비해 성능 떨어짐\n",
        "accuracy_score(y_true=y_train, y_pred=y_pred)"
      ],
      "execution_count": null,
      "outputs": [
        {
          "output_type": "execute_result",
          "data": {
            "text/plain": [
              "0.8826833333333334"
            ]
          },
          "metadata": {
            "tags": []
          },
          "execution_count": 75
        }
      ]
    },
    {
      "cell_type": "code",
      "metadata": {
        "colab": {
          "base_uri": "https://localhost:8080/"
        },
        "id": "1OdoNB-yxqKw",
        "outputId": "0aae7827-9ed4-474e-9efa-68cbddfafebb"
      },
      "source": [
        "# confusion matrix  - 대각선 값 : 맞은 갯수, 나머지 값 : 틀린 갯수\n",
        "# 왼 행 : 실제 0, 1, 2, 3, ... , 9 \n",
        "# 오 열 : 예측 0, 1, 2, 3, ... , 9\n",
        "conf_mat = confusion_matrix(y_train, y_pred)\n",
        "conf_mat"
      ],
      "execution_count": null,
      "outputs": [
        {
          "output_type": "execute_result",
          "data": {
            "text/plain": [
              "array([[5736,    1,   48,    8,   22,   15,   50,    4,   14,   25],\n",
              "       [   2, 6590,   51,    9,   17,    8,   27,    3,   22,   13],\n",
              "       [  28,   36, 5531,   48,   90,   17,   91,   19,   64,   34],\n",
              "       [  67,   36,  365, 5048,   58,  290,   46,   22,   58,  141],\n",
              "       [   1,   28,   28,    1, 5649,    5,   43,    4,    6,   77],\n",
              "       [ 101,   20,   97,  168,  266, 4367,  141,   25,   82,  154],\n",
              "       [  41,    3,   51,    1,   51,   42, 5711,    0,   12,    6],\n",
              "       [  16,   34,  107,   78,  160,    9,    7, 5525,    9,  320],\n",
              "       [  53,  155,  423,  125,  322,  212,   82,   16, 3999,  464],\n",
              "       [  18,   36,   20,   94,  796,   20,    3,  151,    6, 4805]])"
            ]
          },
          "metadata": {
            "tags": []
          },
          "execution_count": 76
        }
      ]
    },
    {
      "cell_type": "code",
      "metadata": {
        "colab": {
          "base_uri": "https://localhost:8080/",
          "height": 275
        },
        "id": "9_9rGZBryH4X",
        "outputId": "d9922e43-6d2e-490b-f9ea-321d8e339e9b"
      },
      "source": [
        "plt.matshow(conf_mat)\n",
        "plt.show()"
      ],
      "execution_count": null,
      "outputs": [
        {
          "output_type": "display_data",
          "data": {
            "image/png": "[encoded data removed]",
            "text/plain": [
              "<Figure size 288x288 with 1 Axes>"
            ]
          },
          "metadata": {
            "tags": [],
            "needs_background": "light"
          }
        }
      ]
    },
    {
      "cell_type": "code",
      "metadata": {
        "colab": {
          "base_uri": "https://localhost:8080/",
          "height": 275
        },
        "id": "ZPAag6UXz2z5",
        "outputId": "5b42fe81-1f91-44e6-c29f-3953476bebdd"
      },
      "source": [
        "plt.matshow(conf_mat, cmap=plt.cm.binary)    # 숫자 (정답 갯수) 크면 클수록 검정색\n",
        "plt.show()\n",
        "# 대각선 : 정답을 맞춘 부분\n",
        "# 대각선 이외의 영역에서 색이 진한 부분 : 오답이 많은 부분"
      ],
      "execution_count": null,
      "outputs": [
        {
          "output_type": "display_data",
          "data": {
            "image/png": "[encoded data removed]",
            "text/plain": [
              "<Figure size 288x288 with 1 Axes>"
            ]
          },
          "metadata": {
            "tags": [],
            "needs_background": "light"
          }
        }
      ]
    }
  ]
}